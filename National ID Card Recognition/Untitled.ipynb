{
 "cells": [
  {
   "cell_type": "code",
   "execution_count": 1,
   "id": "2c3861f2-ae8c-470e-a6d1-964bfdd3ddf0",
   "metadata": {},
   "outputs": [],
   "source": [
    "import cv2\n",
    "import pytesseract\n",
    "import pandas as pd"
   ]
  },
  {
   "cell_type": "code",
   "execution_count": 6,
   "id": "65d23dcc-035d-44ac-b4df-9b48ca5e14c9",
   "metadata": {},
   "outputs": [
    {
     "name": "stdout",
     "output_type": "stream",
     "text": [
      "2\n",
      "Sap tak gop ty PSE |\n",
      "ight Mal AIS:\n",
      "dst a5 a\n",
      "\n",
      "30306020102779 : gi\n",
      "\n",
      "\n"
     ]
    }
   ],
   "source": [
    "import cv2\n",
    "import pytesseract\n",
    "\n",
    "# Path to Tesseract executable (update this path according to your installation)\n",
    "pytesseract.pytesseract.tesseract_cmd = r'C:\\Program Files\\Tesseract-OCR\\tesseract.exe'\n",
    "\n",
    "def extract_text_from_id_card(image_path):\n",
    "    try:\n",
    "        # Load the image using OpenCV\n",
    "        image = cv2.imread(image_path)\n",
    "\n",
    "        if image is None:\n",
    "            raise Exception(\"Image not found or cannot be opened.\")\n",
    "\n",
    "        # Preprocess the image (customize this based on your ID card format)\n",
    "        # Convert the image to grayscale\n",
    "        gray = cv2.cvtColor(image, cv2.COLOR_BGR2GRAY)\n",
    "\n",
    "        # Apply additional preprocessing steps based on your ID card format\n",
    "        # For example, resizing, thresholding, noise reduction, or other filters\n",
    "\n",
    "        # Resize the image to a specific width while maintaining the aspect ratio\n",
    "        # You can specify the desired width\n",
    "        target_width = 800\n",
    "        aspect_ratio = image.shape[1] / image.shape[0]\n",
    "        target_height = int(target_width / aspect_ratio)\n",
    "        resized_image = cv2.resize(gray, (target_width, target_height))\n",
    "\n",
    "        # Apply thresholding to improve text extraction\n",
    "        _, thresholded_image = cv2.threshold(resized_image, 0, 255, cv2.THRESH_BINARY + cv2.THRESH_OTSU)\n",
    "\n",
    "        # Perform noise reduction using Gaussian blur\n",
    "        blurred_image = cv2.GaussianBlur(thresholded_image, (3, 3), 0)\n",
    "\n",
    "        # Use Tesseract to extract text from the preprocessed image\n",
    "        extracted_text = pytesseract.image_to_string(blurred_image)\n",
    "\n",
    "        return extracted_text\n",
    "    except Exception as e:\n",
    "        # Handle any exceptions that may occur during image processing\n",
    "        print(f\"Error: {str(e)}\")\n",
    "        return None\n",
    "\n",
    "# Sample usage to extract text from an ID card image\n",
    "sample_image_path = \"WhatsApp Image 2023-10-01 at 22.00.52_07036408.jpg\"\n",
    "extracted_text = extract_text_from_id_card(sample_image_path)\n",
    "\n",
    "if extracted_text is not None:\n",
    "    print(extracted_text)\n"
   ]
  },
  {
   "cell_type": "code",
   "execution_count": null,
   "id": "17068e18-480b-4e7a-8973-d501009270d9",
   "metadata": {},
   "outputs": [],
   "source": []
  }
 ],
 "metadata": {
  "kernelspec": {
   "display_name": "Python 3 (ipykernel)",
   "language": "python",
   "name": "python3"
  },
  "language_info": {
   "codemirror_mode": {
    "name": "ipython",
    "version": 3
   },
   "file_extension": ".py",
   "mimetype": "text/x-python",
   "name": "python",
   "nbconvert_exporter": "python",
   "pygments_lexer": "ipython3",
   "version": "3.11.4"
  }
 },
 "nbformat": 4,
 "nbformat_minor": 5
}
