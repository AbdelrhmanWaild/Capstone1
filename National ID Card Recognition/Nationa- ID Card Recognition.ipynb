{
 "cells": [
  {
   "cell_type": "code",
   "execution_count": null,
   "id": "2c04713f-1487-44fd-b38b-d990b6c0b319",
   "metadata": {},
   "outputs": [],
   "source": [
    "import pandas as pd\n",
    "import sys\n",
    "import cv2\n",
    "import numpy as np\n",
    "import pytesseract\n",
    "from datetime import datetime\n",
    "pytesseract.pytesseract.tesseract_cmd=r\"C:\\Program Files\\Tesseract-OCR\\tesseract.exe\""
   ]
  },
  {
   "cell_type": "code",
   "execution_count": null,
   "id": "564897ab-de1d-475d-a748-6b01f9e02b27",
   "metadata": {},
   "outputs": [],
   "source": [
    "while True:\n",
    "    image = input(\"Enter the image path:\\n\")\n",
    "    try:\n",
    "        if image.lower().endswith(\".png\"):\n",
    "            img=cv2.imread(image)\n",
    "            break\n",
    "        elif image.lower().endswith(\".jpg\"):\n",
    "            img=cv2.imread(image)\n",
    "            break\n",
    "        else:\n",
    "            print(\"Unsupported file format. Please enter a .png or .jpg image.\")\n",
    "    except Exception as e:\n",
    "        print(\"Error:\", e)\n",
    "        print(\"Can't find such an image with this name or extension.\")"
   ]
  },
  {
   "cell_type": "code",
   "execution_count": null,
   "id": "f7a6012b-9f3d-4915-8f58-0f419ca09af8",
   "metadata": {},
   "outputs": [],
   "source": [
    "img=cv2.resize(img,(None),fx=0.5,fy=0.5)\n",
    "img=cv2.cvtColor(img,cv2.COLOR_BGR2GRAY)\n",
    "cv2.imshow(\"National ID\",img)\n",
    "cv2.waitKey(0)\n",
    "cv2.destroyAllWindows()"
   ]
  },
  {
   "cell_type": "code",
   "execution_count": null,
   "id": "bf62fa9a-c245-4fa1-a3f6-dbf8f44c0222",
   "metadata": {
    "scrolled": true
   },
   "outputs": [],
   "source": [
    "Himg,Wimg=img.shape\n",
    "boxes=pytesseract.image_to_boxes(img,lang='ara')\n",
    "for x,b in enumerate(boxes.splitlines()):\n",
    "    if x!=0:\n",
    "        b=b.split()\n",
    "        if len(b)==12:\n",
    "            x,y,w,h=int(b[6]),int(b[7]),int(b[8]),int(b[9])\n",
    "            zzz=cv2.rectangle(img,(x,y),(x+w,y+h),(0,255,0),3)\n"
   ]
  },
  {
   "cell_type": "code",
   "execution_count": null,
   "id": "130b3af2-20f8-4179-bcb6-67500aec9b9a",
   "metadata": {},
   "outputs": [],
   "source": [
    "img_data = pytesseract.image_to_data(\n",
    "    img,\n",
    "    lang='ara',\n",
    "    config='--psm 11',\n",
    "    output_type=pytesseract.Output.DATAFRAME,\n",
    ")"
   ]
  },
  {
   "cell_type": "code",
   "execution_count": null,
   "id": "267738d9-57a1-42ee-9440-297dbbdf0e2f",
   "metadata": {},
   "outputs": [],
   "source": [
    "img_conf_text = img_data[[\"conf\", \"text\"]]\n",
    "img_valid = img_conf_text[img_conf_text[\"text\"].notnull()]\n",
    "img_words = img_valid[img_valid[\"text\"].str.len() > 1]"
   ]
  },
  {
   "cell_type": "code",
   "execution_count": null,
   "id": "d2ff4003-23cf-4fa0-8e32-a42d7b2f0715",
   "metadata": {},
   "outputs": [],
   "source": [
    "all_predictions = img_words[\"text\"].to_list()\n",
    "confidence_level = 1\n",
    "img_conf = img_words[img_words[\"conf\"] > confidence_level]\n",
    "predictions = img_conf[\"text\"].to_list()"
   ]
  },
  {
   "cell_type": "code",
   "execution_count": null,
   "id": "a2c9f8bf-0b07-4c99-8827-a7dabb4f4449",
   "metadata": {},
   "outputs": [],
   "source": [
    "name=[]\n",
    "address=[]\n",
    "counter=0\n",
    "filtered_list = [item for item in predictions if not item.isnumeric()]\n",
    "for x in filtered_list:\n",
    "    if x in ['اللششخصية','الشخصية.','بطاقة','تحقيق','نينا',\"الشخصية\",\"عورد\"]:\n",
    "        continue\n",
    "    else:\n",
    "        counter+=1\n",
    "        if(counter<6):\n",
    "            name.append(x)\n",
    "            \n",
    "        elif(counter>4):\n",
    "            address.append(x) \n",
    "data = {'Name': [' '.join(name)], 'Address': [' '.join(address)]}\n",
    "df = pd.DataFrame(data)\n",
    "display(df)"
   ]
  }
 ],
 "metadata": {
  "kernelspec": {
   "display_name": "Python 3 (ipykernel)",
   "language": "python",
   "name": "python3"
  },
  "language_info": {
   "codemirror_mode": {
    "name": "ipython",
    "version": 3
   },
   "file_extension": ".py",
   "mimetype": "text/x-python",
   "name": "python",
   "nbconvert_exporter": "python",
   "pygments_lexer": "ipython3",
   "version": "3.11.4"
  }
 },
 "nbformat": 4,
 "nbformat_minor": 5
}
